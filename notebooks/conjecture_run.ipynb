{
 "cells": [
  {
   "metadata": {
    "ExecuteTime": {
     "end_time": "2025-09-28T00:35:25.037997Z",
     "start_time": "2025-09-28T00:35:24.562585Z"
    }
   },
   "cell_type": "code",
   "source": [
    "from get_vowels_multi import get_vowels_multi, display_vowel_groups\n",
    "from thai_syllable_database import syllable_query, PatternData\n",
    "\n",
    "# Analyze Thai text\n",
    "text = \"คนสตรีเด็กไก่\"\n",
    "text2 = \"ญัตติที่เสนอได้ผ่านที่ประชุมด้วยมติเอกฉันท์\"\n",
    "text3 = \"เนื้อเพลง\"\n",
    "vowel_groups = get_vowels_multi(text3)\n",
    "\n",
    "# vowel_groups is a dict: {1: [interpretations], 2: [interpretations], ...}\n",
    "\n",
    "# Process each vowel's interpretations and store in database\n",
    "for vowel_num, interpretations in vowel_groups.items():\n",
    "  for interp in interpretations:\n",
    "      # Store in database\n",
    "      pattern_data = PatternData(\n",
    "          pattern=interp['pattern'],\n",
    "          foundation=interp.get('x_text'),\n",
    "          final=interp.get('f_text'),\n",
    "          syllable=interp['matched_text'],\n",
    "          pattern_id=interp.get('abbrev_id'),\n",
    "          tags=interp.get('tags')  # Now includes tags from pattern database\n",
    "      )\n",
    "\n",
    "      syll_id, is_new = syllable_query(pattern_data)\n",
    "\n",
    "      # Print what we're storing (optional)\n",
    "      print(f\"Pattern: {interp['pattern']}, Text: {interp['matched_text']}, DB_ID: {syll_id}, New: {is_new}\")\n",
    "\n",
    "# Display nicely formatted output\n",
    "display_vowel_groups(text, vowel_groups)\n"
   ],
   "id": "7c12775321865364",
   "outputs": [
    {
     "name": "stdout",
     "output_type": "stream",
     "text": [
      "Pattern: เx, Text: เน, DB_ID: 39, New: False\n",
      "Pattern: เxือ, Text: เนื้อ, DB_ID: 40, New: False\n",
      "Pattern: xืf, Text: นื้อ, DB_ID: 41, New: False\n",
      "Pattern: xือ, Text: นื้อ, DB_ID: 42, New: False\n",
      "Pattern: เx, Text: เพ, DB_ID: 43, New: False\n",
      "Pattern: เx, Text: เพล, DB_ID: 44, New: False\n",
      "Pattern: เxf, Text: เพล, DB_ID: 45, New: False\n",
      "Pattern: เxf, Text: เพลง, DB_ID: 46, New: False\n",
      "Pattern: เxf, Text: เพลง, DB_ID: 47, New: False\n",
      "Text: 'คนสตรีเด็กไก่'\n",
      "Found 3 vowel positions\n",
      "======================================================================\n",
      "\n",
      "Vowel 1: (2 interpretations)\n",
      "----------------------------------------------------------------------\n",
      "  [1] Pattern: เx           ID: e_a_o          \n",
      "      Text: 'เน'  Pos: 0-1\n",
      "      x='น'\n",
      "  [2] Pattern: เxือ         ID: eua_l_o        \n",
      "      Text: 'เนื้อ'  Pos: 0-4\n",
      "      x='น'\n",
      "\n",
      "Vowel 2: (2 interpretations)\n",
      "----------------------------------------------------------------------\n",
      "  [1] Pattern: xืf          ID: eu_l_c         \n",
      "      Text: 'นื้อ'  Pos: 1-4\n",
      "      x='น'  f='อ'\n",
      "  [2] Pattern: xือ          ID: eu_l_o         \n",
      "      Text: 'นื้อ'  Pos: 1-4\n",
      "      x='น'\n",
      "\n",
      "Vowel 3: (5 interpretations)\n",
      "----------------------------------------------------------------------\n",
      "  [1] Pattern: เx           ID: e_a_o          \n",
      "      Text: 'เพ'  Pos: 5-6\n",
      "      x='พ'\n",
      "  [2] Pattern: เx           ID: e_a_o          \n",
      "      Text: 'เพล'  Pos: 5-7\n",
      "      x='พล'\n",
      "  [3] Pattern: เxf          ID: e_a_c          \n",
      "      Text: 'เพล'  Pos: 5-7\n",
      "      x='พ'  f='ล'\n",
      "  [4] Pattern: เxf          ID: e_a_c          \n",
      "      Text: 'เพลง'  Pos: 5-8\n",
      "      x='พ'  f='ลง'\n",
      "  [5] Pattern: เxf          ID: e_a_c          \n",
      "      Text: 'เพลง'  Pos: 5-8\n",
      "      x='พล'  f='ง'\n"
     ]
    }
   ],
   "execution_count": 1
  },
  {
   "metadata": {},
   "cell_type": "code",
   "outputs": [],
   "execution_count": null,
   "source": "",
   "id": "15c54e674fe3e19c"
  }
 ],
 "metadata": {
  "kernelspec": {
   "display_name": "Python 3",
   "language": "python",
   "name": "python3"
  },
  "language_info": {
   "codemirror_mode": {
    "name": "ipython",
    "version": 2
   },
   "file_extension": ".py",
   "mimetype": "text/x-python",
   "name": "python",
   "nbconvert_exporter": "python",
   "pygments_lexer": "ipython2",
   "version": "2.7.6"
  }
 },
 "nbformat": 4,
 "nbformat_minor": 5
}
