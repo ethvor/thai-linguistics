{
 "cells": [
  {
   "cell_type": "code",
   "id": "initial_id",
   "metadata": {
    "collapsed": true,
    "ExecuteTime": {
     "end_time": "2025-09-26T08:27:33.615972Z",
     "start_time": "2025-09-26T08:27:33.608981Z"
    }
   },
   "source": "import os\nimport sys\nimport importlib\n\n# Force reimport of the module\nif 'conjecture_based_vowel_detector' in sys.modules:\n    importlib.reload(sys.modules['conjecture_based_vowel_detector'])\n\nfrom conjecture_based_vowel_detector import ConjectureBasedVowelDetector\n\n# Get the project root directory (parent of current directory if we're in archive)\ncurrent_dir = os.path.dirname(os.path.abspath(\"conjecture_run.ipynb\"))\n# Go up one level to the project root\nproject_root = os.path.dirname(current_dir)\npatterns_file = os.path.join(project_root, \"thai_vowels_tagged_9-21-2025-2-31-pm.json\")\n\nprint(f\"Looking for JSON file at: {patterns_file}\")\nprint(f\"File exists: {os.path.exists(patterns_file)}\")\n\n# Initialize detector\ndetector = ConjectureBasedVowelDetector(patterns_file)\n\n# Detect vowels in text\ntext = \"ประเทศไทย\"\nvowels = detector.find_vowels(text)\n\n# Access results (1-based indexing)\nfor i in sorted(vowels.keys()):\n    vowel_data = vowels[i]\n    print(f\"Vowel {i}:\")\n    print(f\"  Pattern: {vowel_data.best_candidate.pattern}\")\n    print(f\"  Type: {vowel_data.best_candidate.vowel_type.value}\")\n    print(f\"  Position: {vowel_data.text_span}\")\n    print(f\"  Evidence: {vowel_data.best_candidate.evidence}\")",
   "outputs": [
    {
     "name": "stdout",
     "output_type": "stream",
     "text": [
      "Looking for JSON file at: E:\\AI\\Glossolalia Project\\Thai Algorithm Development\\thai_vowels_tagged_9-21-2025-2-31-pm.json\n",
      "File exists: True\n",
      "Vowel 1:\n",
      "  Pattern: xะ\n",
      "  Type: explicit\n",
      "  Position: (1, 2)\n",
      "  Evidence: [\"Explicit vowel mark 'ะ' at position 2\"]\n",
      "Vowel 2:\n",
      "  Pattern: เx\n",
      "  Type: explicit\n",
      "  Position: (3, 5)\n",
      "  Evidence: [\"Explicit vowel mark 'เ' at position 3\"]\n",
      "Vowel 3:\n",
      "  Pattern: ไx\n",
      "  Type: explicit\n",
      "  Position: (6, 8)\n",
      "  Evidence: [\"Explicit vowel mark 'ไ' at position 6\"]\n"
     ]
    }
   ],
   "execution_count": 9
  },
  {
   "metadata": {
    "ExecuteTime": {
     "end_time": "2025-09-26T08:28:37.014378Z",
     "start_time": "2025-09-26T08:28:37.012112Z"
    }
   },
   "cell_type": "code",
   "source": "print(vowel_data)",
   "id": "dea42d6b9a6ea425",
   "outputs": [
    {
     "name": "stdout",
     "output_type": "stream",
     "text": [
      "VowelData(vowel_number=3, candidates=[VowelCandidate(vowel_type=<VowelType.EXPLICIT: 'explicit'>, pattern='ไx', abbrev_id='ai_a_c_jg', start_pos=6, end_pos=7, foundation_pos=7, final_pos=None, evidence=[\"Explicit vowel mark 'ไ' at position 6\"]), VowelCandidate(vowel_type=<VowelType.EXPLICIT: 'explicit'>, pattern='ไxย', abbrev_id='ai_s_c_jg_3', start_pos=6, end_pos=8, foundation_pos=7, final_pos=None, evidence=[\"Explicit vowel mark 'ไ' at position 6\"])], best_candidate=VowelCandidate(vowel_type=<VowelType.EXPLICIT: 'explicit'>, pattern='ไx', abbrev_id='ai_a_c_jg', start_pos=6, end_pos=7, foundation_pos=7, final_pos=None, evidence=[\"Explicit vowel mark 'ไ' at position 6\"]), text_span=(6, 8))\n"
     ]
    }
   ],
   "execution_count": 10
  },
  {
   "metadata": {
    "ExecuteTime": {
     "end_time": "2025-09-26T18:08:08.098568Z",
     "start_time": "2025-09-26T18:08:08.092808Z"
    }
   },
   "cell_type": "code",
   "source": [
    "from conjecture_based_vowel_detector import *\n",
    "# Method 1: Quick analysis\n",
    "vowels = analyze_text(\"คน\")\n",
    "\n",
    "# Method 2: Rich individual display\n",
    "vowels[1]  # Shows HTML-formatted vowel in Jupyter\n",
    "\n",
    "# Method 3: Compare multiple words\n",
    "compare_texts([\"คน\", \"สตรี\", \"เด็ก\", \"ไก่\"])\n",
    "\n",
    "# Method 4: Statistical analysis\n",
    "vowel_stats(vowels)\n",
    "display_vowel_grid(vowels, \"คน\")"
   ],
   "id": "de537697d2435c98",
   "outputs": [
    {
     "name": "stdout",
     "output_type": "stream",
     "text": [
      "Analyzing: 'คน'\n",
      "Found 2 vowels\n",
      "--------------------------------------------------\n",
      "VOWEL 1\n",
      "Span: 0-0\n",
      "Text: 'ค'\n",
      "\n",
      "BEST CANDIDATE:\n",
      "Pattern: HIDDEN_xf\n",
      "ID: o_s_c\n",
      "Position: 0-0\n",
      "Type: hidden\n",
      "Text: 'ค'\n",
      "Foundation: pos 0\n",
      "Evidence:\n",
      "   1. No vowel within 2 chars of consonant 'ค' at 0\n",
      "------------------------------\n",
      "VOWEL 2\n",
      "Span: 1-1\n",
      "Text: 'น'\n",
      "\n",
      "BEST CANDIDATE:\n",
      "Pattern: HIDDEN_x\n",
      "ID: o_s_c\n",
      "Position: 1-1\n",
      "Type: hidden\n",
      "Text: 'น'\n",
      "Foundation: pos 1\n",
      "Evidence:\n",
      "   1. No vowel within 2 chars of consonant 'น' at 1\n",
      "------------------------------\n",
      "COMPARISON SUMMARY\n",
      "Text            Vowels   Hidden   Explicit Ambiguous \n",
      "------------------------------------------------------------\n",
      "คน              2        2        0        0         \n",
      "สตรี            2        1        1        0         \n",
      "เด็ก            1        0        1        0         \n",
      "ไก่             1        0        1        0         \n",
      "VOWEL ANALYSIS (2 vowels)\n",
      "------------------------------\n",
      "By Type:\n",
      "      hidden:  2 (100.0%)\n",
      "\n",
      "Most Common Patterns:\n",
      "   HIDDEN_xf:  1 (50.0%)\n",
      "    HIDDEN_x:  1 (50.0%)\n",
      "\n",
      "Average alternatives per vowel: 1.0\n",
      "VOWEL GRID\n",
      "------------------------------------------------------------\n",
      "  # Pattern      ID              Type       Pos      Text\n",
      "------------------------------------------------------------\n",
      "  1 HIDDEN_xf    o_s_c           Hhidden    0-0      'ค'\n",
      "  2 HIDDEN_x     o_s_c           Hhidden    1-1      'น'\n"
     ]
    }
   ],
   "execution_count": 1
  },
  {
   "metadata": {},
   "cell_type": "code",
   "outputs": [],
   "execution_count": null,
   "source": "",
   "id": "5c8cf1e5c3ac0db3"
  }
 ],
 "metadata": {
  "kernelspec": {
   "display_name": "Python 3",
   "language": "python",
   "name": "python3"
  },
  "language_info": {
   "codemirror_mode": {
    "name": "ipython",
    "version": 2
   },
   "file_extension": ".py",
   "mimetype": "text/x-python",
   "name": "python",
   "nbconvert_exporter": "python",
   "pygments_lexer": "ipython2",
   "version": "2.7.6"
  }
 },
 "nbformat": 4,
 "nbformat_minor": 5
}
